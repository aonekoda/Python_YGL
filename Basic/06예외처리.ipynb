{
 "cells": [
  {
   "cell_type": "code",
   "execution_count": 27,
   "metadata": {},
   "outputs": [
    {
     "name": "stdout",
     "output_type": "stream",
     "text": [
      "정상\n",
      "final\n"
     ]
    }
   ],
   "source": [
    "try :\n",
    "    10/10\n",
    "except :\n",
    "    print('에러: 0으로 나누기 안된다.')\n",
    "else :\n",
    "    print('정상')\n",
    "finally :\n",
    "    print('final')"
   ]
  },
  {
   "cell_type": "code",
   "execution_count": 33,
   "metadata": {},
   "outputs": [
    {
     "name": "stdout",
     "output_type": "stream",
     "text": [
      "에러 : ZeroDivisionError\n",
      "에러가 발생해도 하지 않아도 처리됨\n"
     ]
    }
   ],
   "source": [
    "try :\n",
    "    '이선화' + '100'\n",
    "    10/0\n",
    "except TypeError :\n",
    "    print('에러 : TypeError')\n",
    "except ZeroDivisionError:\n",
    "    print(\"에러 : ZeroDivisionError\")\n",
    "else :\n",
    "    print('정상처리되었음')\n",
    "finally:\n",
    "    print('에러가 발생해도 하지 않아도 처리됨')"
   ]
  },
  {
   "cell_type": "code",
   "execution_count": 35,
   "metadata": {},
   "outputs": [
    {
     "data": {
      "text/plain": [
       "5.0"
      ]
     },
     "execution_count": 35,
     "metadata": {},
     "output_type": "execute_result"
    }
   ],
   "source": [
    "def div(num1, num2):\n",
    "    try :    \n",
    "        return num1/num2\n",
    "    except :\n",
    "        print('나눗셈 도중에 에러')\n",
    "    else :\n",
    "        print('정상')\n",
    "    \n",
    "\n",
    "div(10,2)"
   ]
  },
  {
   "cell_type": "code",
   "execution_count": 19,
   "metadata": {},
   "outputs": [
    {
     "name": "stdout",
     "output_type": "stream",
     "text": [
      "현재 수량은 10\n"
     ]
    }
   ],
   "source": [
    "class MyError(Exception):\n",
    "    pass\n",
    "\n",
    "cnt = 10\n",
    "try :\n",
    "    if cnt < 0 :\n",
    "        raise MyError()\n",
    "except:\n",
    "    print(\"에러: 수량은 음수가 될 수 없음.\")\n",
    "else :\n",
    "    print('현재 수량은', cnt)\n"
   ]
  },
  {
   "cell_type": "markdown",
   "metadata": {},
   "source": [
    "# 예외처리 실습"
   ]
  },
  {
   "cell_type": "code",
   "execution_count": 21,
   "metadata": {},
   "outputs": [
    {
     "name": "stdout",
     "output_type": "stream",
     "text": [
      "90\n",
      "100\n",
      "88\n",
      "54\n",
      "에러: 점수는 100점이 넘을 수 없다.\n"
     ]
    }
   ],
   "source": [
    "class ScoreError(Exception):\n",
    "    pass\n",
    "\n",
    "score = [90,100,88,54,190,80]\n",
    "\n",
    "try:\n",
    "    for i in score:\n",
    "        if i > 100 :\n",
    "            raise ScoreError()\n",
    "        else:\n",
    "            print(i)\n",
    "except ScoreError:\n",
    "    print('에러: 점수는 100점이 넘을 수 없다.')\n"
   ]
  },
  {
   "cell_type": "code",
   "execution_count": 22,
   "metadata": {},
   "outputs": [
    {
     "name": "stdout",
     "output_type": "stream",
     "text": [
      "7\n"
     ]
    }
   ],
   "source": [
    "result = 0\n",
    "try:\n",
    "    [1, 2, 3][3]\n",
    "    \"a\"+1\n",
    "    4 / 0\n",
    "except TypeError:\n",
    "    result += 1\n",
    "except ZeroDivisionError:\n",
    "    result += 2\n",
    "except IndexError:\n",
    "    result += 3\n",
    "finally:\n",
    "    result += 4\n",
    "print(result)"
   ]
  }
 ],
 "metadata": {
  "kernelspec": {
   "display_name": "Python 3",
   "language": "python",
   "name": "python3"
  },
  "language_info": {
   "codemirror_mode": {
    "name": "ipython",
    "version": 3
   },
   "file_extension": ".py",
   "mimetype": "text/x-python",
   "name": "python",
   "nbconvert_exporter": "python",
   "pygments_lexer": "ipython3",
   "version": "3.7.1"
  }
 },
 "nbformat": 4,
 "nbformat_minor": 2
}
